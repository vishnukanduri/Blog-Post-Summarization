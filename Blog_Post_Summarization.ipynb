{
  "nbformat": 4,
  "nbformat_minor": 0,
  "metadata": {
    "colab": {
      "name": "Blog Post Summarization",
      "provenance": [],
      "toc_visible": true,
      "authorship_tag": "ABX9TyP4rDzco8D12qfCun4f6mTR",
      "include_colab_link": true
    },
    "kernelspec": {
      "name": "python3",
      "display_name": "Python 3"
    },
    "widgets": {
      "application/vnd.jupyter.widget-state+json": {
        "1a51ec1232d74453a9ec6550db06af20": {
          "model_module": "@jupyter-widgets/controls",
          "model_name": "HBoxModel",
          "state": {
            "_view_name": "HBoxView",
            "_dom_classes": [],
            "_model_name": "HBoxModel",
            "_view_module": "@jupyter-widgets/controls",
            "_model_module_version": "1.5.0",
            "_view_count": null,
            "_view_module_version": "1.5.0",
            "box_style": "",
            "layout": "IPY_MODEL_c7c112f694f94353acc67627bca2b9df",
            "_model_module": "@jupyter-widgets/controls",
            "children": [
              "IPY_MODEL_95db4b257f43437c8237912c9561c0d9",
              "IPY_MODEL_4177ff2e0fc24affacba7bcab06db945"
            ]
          }
        },
        "c7c112f694f94353acc67627bca2b9df": {
          "model_module": "@jupyter-widgets/base",
          "model_name": "LayoutModel",
          "state": {
            "_view_name": "LayoutView",
            "grid_template_rows": null,
            "right": null,
            "justify_content": null,
            "_view_module": "@jupyter-widgets/base",
            "overflow": null,
            "_model_module_version": "1.2.0",
            "_view_count": null,
            "flex_flow": null,
            "width": null,
            "min_width": null,
            "border": null,
            "align_items": null,
            "bottom": null,
            "_model_module": "@jupyter-widgets/base",
            "top": null,
            "grid_column": null,
            "overflow_y": null,
            "overflow_x": null,
            "grid_auto_flow": null,
            "grid_area": null,
            "grid_template_columns": null,
            "flex": null,
            "_model_name": "LayoutModel",
            "justify_items": null,
            "grid_row": null,
            "max_height": null,
            "align_content": null,
            "visibility": null,
            "align_self": null,
            "height": null,
            "min_height": null,
            "padding": null,
            "grid_auto_rows": null,
            "grid_gap": null,
            "max_width": null,
            "order": null,
            "_view_module_version": "1.2.0",
            "grid_template_areas": null,
            "object_position": null,
            "object_fit": null,
            "grid_auto_columns": null,
            "margin": null,
            "display": null,
            "left": null
          }
        },
        "95db4b257f43437c8237912c9561c0d9": {
          "model_module": "@jupyter-widgets/controls",
          "model_name": "FloatProgressModel",
          "state": {
            "_view_name": "ProgressView",
            "style": "IPY_MODEL_34994f4181d840fd9a36139cab20b73d",
            "_dom_classes": [],
            "description": "Downloading: 100%",
            "_model_name": "FloatProgressModel",
            "bar_style": "success",
            "max": 1621,
            "_view_module": "@jupyter-widgets/controls",
            "_model_module_version": "1.5.0",
            "value": 1621,
            "_view_count": null,
            "_view_module_version": "1.5.0",
            "orientation": "horizontal",
            "min": 0,
            "description_tooltip": null,
            "_model_module": "@jupyter-widgets/controls",
            "layout": "IPY_MODEL_c26f1b33566347ad8172d3155f636d00"
          }
        },
        "4177ff2e0fc24affacba7bcab06db945": {
          "model_module": "@jupyter-widgets/controls",
          "model_name": "HTMLModel",
          "state": {
            "_view_name": "HTMLView",
            "style": "IPY_MODEL_0654be3b9aeb47e2854f2ed4167800a0",
            "_dom_classes": [],
            "description": "",
            "_model_name": "HTMLModel",
            "placeholder": "​",
            "_view_module": "@jupyter-widgets/controls",
            "_model_module_version": "1.5.0",
            "value": " 1.62k/1.62k [00:01&lt;00:00, 1.42kB/s]",
            "_view_count": null,
            "_view_module_version": "1.5.0",
            "description_tooltip": null,
            "_model_module": "@jupyter-widgets/controls",
            "layout": "IPY_MODEL_d1bf840ed7164a7b828484c9c2b10758"
          }
        },
        "34994f4181d840fd9a36139cab20b73d": {
          "model_module": "@jupyter-widgets/controls",
          "model_name": "ProgressStyleModel",
          "state": {
            "_view_name": "StyleView",
            "_model_name": "ProgressStyleModel",
            "description_width": "initial",
            "_view_module": "@jupyter-widgets/base",
            "_model_module_version": "1.5.0",
            "_view_count": null,
            "_view_module_version": "1.2.0",
            "bar_color": null,
            "_model_module": "@jupyter-widgets/controls"
          }
        },
        "c26f1b33566347ad8172d3155f636d00": {
          "model_module": "@jupyter-widgets/base",
          "model_name": "LayoutModel",
          "state": {
            "_view_name": "LayoutView",
            "grid_template_rows": null,
            "right": null,
            "justify_content": null,
            "_view_module": "@jupyter-widgets/base",
            "overflow": null,
            "_model_module_version": "1.2.0",
            "_view_count": null,
            "flex_flow": null,
            "width": null,
            "min_width": null,
            "border": null,
            "align_items": null,
            "bottom": null,
            "_model_module": "@jupyter-widgets/base",
            "top": null,
            "grid_column": null,
            "overflow_y": null,
            "overflow_x": null,
            "grid_auto_flow": null,
            "grid_area": null,
            "grid_template_columns": null,
            "flex": null,
            "_model_name": "LayoutModel",
            "justify_items": null,
            "grid_row": null,
            "max_height": null,
            "align_content": null,
            "visibility": null,
            "align_self": null,
            "height": null,
            "min_height": null,
            "padding": null,
            "grid_auto_rows": null,
            "grid_gap": null,
            "max_width": null,
            "order": null,
            "_view_module_version": "1.2.0",
            "grid_template_areas": null,
            "object_position": null,
            "object_fit": null,
            "grid_auto_columns": null,
            "margin": null,
            "display": null,
            "left": null
          }
        },
        "0654be3b9aeb47e2854f2ed4167800a0": {
          "model_module": "@jupyter-widgets/controls",
          "model_name": "DescriptionStyleModel",
          "state": {
            "_view_name": "StyleView",
            "_model_name": "DescriptionStyleModel",
            "description_width": "",
            "_view_module": "@jupyter-widgets/base",
            "_model_module_version": "1.5.0",
            "_view_count": null,
            "_view_module_version": "1.2.0",
            "_model_module": "@jupyter-widgets/controls"
          }
        },
        "d1bf840ed7164a7b828484c9c2b10758": {
          "model_module": "@jupyter-widgets/base",
          "model_name": "LayoutModel",
          "state": {
            "_view_name": "LayoutView",
            "grid_template_rows": null,
            "right": null,
            "justify_content": null,
            "_view_module": "@jupyter-widgets/base",
            "overflow": null,
            "_model_module_version": "1.2.0",
            "_view_count": null,
            "flex_flow": null,
            "width": null,
            "min_width": null,
            "border": null,
            "align_items": null,
            "bottom": null,
            "_model_module": "@jupyter-widgets/base",
            "top": null,
            "grid_column": null,
            "overflow_y": null,
            "overflow_x": null,
            "grid_auto_flow": null,
            "grid_area": null,
            "grid_template_columns": null,
            "flex": null,
            "_model_name": "LayoutModel",
            "justify_items": null,
            "grid_row": null,
            "max_height": null,
            "align_content": null,
            "visibility": null,
            "align_self": null,
            "height": null,
            "min_height": null,
            "padding": null,
            "grid_auto_rows": null,
            "grid_gap": null,
            "max_width": null,
            "order": null,
            "_view_module_version": "1.2.0",
            "grid_template_areas": null,
            "object_position": null,
            "object_fit": null,
            "grid_auto_columns": null,
            "margin": null,
            "display": null,
            "left": null
          }
        },
        "7aee8a2ebbe64368927465f0242e8bf3": {
          "model_module": "@jupyter-widgets/controls",
          "model_name": "HBoxModel",
          "state": {
            "_view_name": "HBoxView",
            "_dom_classes": [],
            "_model_name": "HBoxModel",
            "_view_module": "@jupyter-widgets/controls",
            "_model_module_version": "1.5.0",
            "_view_count": null,
            "_view_module_version": "1.5.0",
            "box_style": "",
            "layout": "IPY_MODEL_892df1027263496d8993c03e83a11aa6",
            "_model_module": "@jupyter-widgets/controls",
            "children": [
              "IPY_MODEL_abbbdc6f1ea14d868177147c14291455",
              "IPY_MODEL_7ed1a3ade8db4567b39f847f2d7b4783"
            ]
          }
        },
        "892df1027263496d8993c03e83a11aa6": {
          "model_module": "@jupyter-widgets/base",
          "model_name": "LayoutModel",
          "state": {
            "_view_name": "LayoutView",
            "grid_template_rows": null,
            "right": null,
            "justify_content": null,
            "_view_module": "@jupyter-widgets/base",
            "overflow": null,
            "_model_module_version": "1.2.0",
            "_view_count": null,
            "flex_flow": null,
            "width": null,
            "min_width": null,
            "border": null,
            "align_items": null,
            "bottom": null,
            "_model_module": "@jupyter-widgets/base",
            "top": null,
            "grid_column": null,
            "overflow_y": null,
            "overflow_x": null,
            "grid_auto_flow": null,
            "grid_area": null,
            "grid_template_columns": null,
            "flex": null,
            "_model_name": "LayoutModel",
            "justify_items": null,
            "grid_row": null,
            "max_height": null,
            "align_content": null,
            "visibility": null,
            "align_self": null,
            "height": null,
            "min_height": null,
            "padding": null,
            "grid_auto_rows": null,
            "grid_gap": null,
            "max_width": null,
            "order": null,
            "_view_module_version": "1.2.0",
            "grid_template_areas": null,
            "object_position": null,
            "object_fit": null,
            "grid_auto_columns": null,
            "margin": null,
            "display": null,
            "left": null
          }
        },
        "abbbdc6f1ea14d868177147c14291455": {
          "model_module": "@jupyter-widgets/controls",
          "model_name": "FloatProgressModel",
          "state": {
            "_view_name": "ProgressView",
            "style": "IPY_MODEL_2a0a4b506750479a80a085ec2237b251",
            "_dom_classes": [],
            "description": "Downloading: 100%",
            "_model_name": "FloatProgressModel",
            "bar_style": "success",
            "max": 1222317369,
            "_view_module": "@jupyter-widgets/controls",
            "_model_module_version": "1.5.0",
            "value": 1222317369,
            "_view_count": null,
            "_view_module_version": "1.5.0",
            "orientation": "horizontal",
            "min": 0,
            "description_tooltip": null,
            "_model_module": "@jupyter-widgets/controls",
            "layout": "IPY_MODEL_28000be91c6649f985de4b77f8bc8d50"
          }
        },
        "7ed1a3ade8db4567b39f847f2d7b4783": {
          "model_module": "@jupyter-widgets/controls",
          "model_name": "HTMLModel",
          "state": {
            "_view_name": "HTMLView",
            "style": "IPY_MODEL_fd49b5b9e1c34da5b1794947ba661a86",
            "_dom_classes": [],
            "description": "",
            "_model_name": "HTMLModel",
            "placeholder": "​",
            "_view_module": "@jupyter-widgets/controls",
            "_model_module_version": "1.5.0",
            "value": " 1.22G/1.22G [00:24&lt;00:00, 50.5MB/s]",
            "_view_count": null,
            "_view_module_version": "1.5.0",
            "description_tooltip": null,
            "_model_module": "@jupyter-widgets/controls",
            "layout": "IPY_MODEL_ecaa18bb4d9f4676bf7fe90b110df641"
          }
        },
        "2a0a4b506750479a80a085ec2237b251": {
          "model_module": "@jupyter-widgets/controls",
          "model_name": "ProgressStyleModel",
          "state": {
            "_view_name": "StyleView",
            "_model_name": "ProgressStyleModel",
            "description_width": "initial",
            "_view_module": "@jupyter-widgets/base",
            "_model_module_version": "1.5.0",
            "_view_count": null,
            "_view_module_version": "1.2.0",
            "bar_color": null,
            "_model_module": "@jupyter-widgets/controls"
          }
        },
        "28000be91c6649f985de4b77f8bc8d50": {
          "model_module": "@jupyter-widgets/base",
          "model_name": "LayoutModel",
          "state": {
            "_view_name": "LayoutView",
            "grid_template_rows": null,
            "right": null,
            "justify_content": null,
            "_view_module": "@jupyter-widgets/base",
            "overflow": null,
            "_model_module_version": "1.2.0",
            "_view_count": null,
            "flex_flow": null,
            "width": null,
            "min_width": null,
            "border": null,
            "align_items": null,
            "bottom": null,
            "_model_module": "@jupyter-widgets/base",
            "top": null,
            "grid_column": null,
            "overflow_y": null,
            "overflow_x": null,
            "grid_auto_flow": null,
            "grid_area": null,
            "grid_template_columns": null,
            "flex": null,
            "_model_name": "LayoutModel",
            "justify_items": null,
            "grid_row": null,
            "max_height": null,
            "align_content": null,
            "visibility": null,
            "align_self": null,
            "height": null,
            "min_height": null,
            "padding": null,
            "grid_auto_rows": null,
            "grid_gap": null,
            "max_width": null,
            "order": null,
            "_view_module_version": "1.2.0",
            "grid_template_areas": null,
            "object_position": null,
            "object_fit": null,
            "grid_auto_columns": null,
            "margin": null,
            "display": null,
            "left": null
          }
        },
        "fd49b5b9e1c34da5b1794947ba661a86": {
          "model_module": "@jupyter-widgets/controls",
          "model_name": "DescriptionStyleModel",
          "state": {
            "_view_name": "StyleView",
            "_model_name": "DescriptionStyleModel",
            "description_width": "",
            "_view_module": "@jupyter-widgets/base",
            "_model_module_version": "1.5.0",
            "_view_count": null,
            "_view_module_version": "1.2.0",
            "_model_module": "@jupyter-widgets/controls"
          }
        },
        "ecaa18bb4d9f4676bf7fe90b110df641": {
          "model_module": "@jupyter-widgets/base",
          "model_name": "LayoutModel",
          "state": {
            "_view_name": "LayoutView",
            "grid_template_rows": null,
            "right": null,
            "justify_content": null,
            "_view_module": "@jupyter-widgets/base",
            "overflow": null,
            "_model_module_version": "1.2.0",
            "_view_count": null,
            "flex_flow": null,
            "width": null,
            "min_width": null,
            "border": null,
            "align_items": null,
            "bottom": null,
            "_model_module": "@jupyter-widgets/base",
            "top": null,
            "grid_column": null,
            "overflow_y": null,
            "overflow_x": null,
            "grid_auto_flow": null,
            "grid_area": null,
            "grid_template_columns": null,
            "flex": null,
            "_model_name": "LayoutModel",
            "justify_items": null,
            "grid_row": null,
            "max_height": null,
            "align_content": null,
            "visibility": null,
            "align_self": null,
            "height": null,
            "min_height": null,
            "padding": null,
            "grid_auto_rows": null,
            "grid_gap": null,
            "max_width": null,
            "order": null,
            "_view_module_version": "1.2.0",
            "grid_template_areas": null,
            "object_position": null,
            "object_fit": null,
            "grid_auto_columns": null,
            "margin": null,
            "display": null,
            "left": null
          }
        },
        "d8fdc8f8862a497b89e452cf386c5f2f": {
          "model_module": "@jupyter-widgets/controls",
          "model_name": "HBoxModel",
          "state": {
            "_view_name": "HBoxView",
            "_dom_classes": [],
            "_model_name": "HBoxModel",
            "_view_module": "@jupyter-widgets/controls",
            "_model_module_version": "1.5.0",
            "_view_count": null,
            "_view_module_version": "1.5.0",
            "box_style": "",
            "layout": "IPY_MODEL_68eea732b27a460789f2f2a362802d28",
            "_model_module": "@jupyter-widgets/controls",
            "children": [
              "IPY_MODEL_64df380a68bb4cebbd3036501876b3c4",
              "IPY_MODEL_7eff70a431f84b6a8fe0101be9f1b719"
            ]
          }
        },
        "68eea732b27a460789f2f2a362802d28": {
          "model_module": "@jupyter-widgets/base",
          "model_name": "LayoutModel",
          "state": {
            "_view_name": "LayoutView",
            "grid_template_rows": null,
            "right": null,
            "justify_content": null,
            "_view_module": "@jupyter-widgets/base",
            "overflow": null,
            "_model_module_version": "1.2.0",
            "_view_count": null,
            "flex_flow": null,
            "width": null,
            "min_width": null,
            "border": null,
            "align_items": null,
            "bottom": null,
            "_model_module": "@jupyter-widgets/base",
            "top": null,
            "grid_column": null,
            "overflow_y": null,
            "overflow_x": null,
            "grid_auto_flow": null,
            "grid_area": null,
            "grid_template_columns": null,
            "flex": null,
            "_model_name": "LayoutModel",
            "justify_items": null,
            "grid_row": null,
            "max_height": null,
            "align_content": null,
            "visibility": null,
            "align_self": null,
            "height": null,
            "min_height": null,
            "padding": null,
            "grid_auto_rows": null,
            "grid_gap": null,
            "max_width": null,
            "order": null,
            "_view_module_version": "1.2.0",
            "grid_template_areas": null,
            "object_position": null,
            "object_fit": null,
            "grid_auto_columns": null,
            "margin": null,
            "display": null,
            "left": null
          }
        },
        "64df380a68bb4cebbd3036501876b3c4": {
          "model_module": "@jupyter-widgets/controls",
          "model_name": "FloatProgressModel",
          "state": {
            "_view_name": "ProgressView",
            "style": "IPY_MODEL_8396b28bfc854f809f18c72385245dac",
            "_dom_classes": [],
            "description": "Downloading: 100%",
            "_model_name": "FloatProgressModel",
            "bar_style": "success",
            "max": 898822,
            "_view_module": "@jupyter-widgets/controls",
            "_model_module_version": "1.5.0",
            "value": 898822,
            "_view_count": null,
            "_view_module_version": "1.5.0",
            "orientation": "horizontal",
            "min": 0,
            "description_tooltip": null,
            "_model_module": "@jupyter-widgets/controls",
            "layout": "IPY_MODEL_7958ac6fa16a4031860985facbe278c7"
          }
        },
        "7eff70a431f84b6a8fe0101be9f1b719": {
          "model_module": "@jupyter-widgets/controls",
          "model_name": "HTMLModel",
          "state": {
            "_view_name": "HTMLView",
            "style": "IPY_MODEL_ae3df8cc2c734911b41465b709e6c3f9",
            "_dom_classes": [],
            "description": "",
            "_model_name": "HTMLModel",
            "placeholder": "​",
            "_view_module": "@jupyter-widgets/controls",
            "_model_module_version": "1.5.0",
            "value": " 899k/899k [00:05&lt;00:00, 153kB/s]",
            "_view_count": null,
            "_view_module_version": "1.5.0",
            "description_tooltip": null,
            "_model_module": "@jupyter-widgets/controls",
            "layout": "IPY_MODEL_68beba8b17b846ecb87ecb437cc26618"
          }
        },
        "8396b28bfc854f809f18c72385245dac": {
          "model_module": "@jupyter-widgets/controls",
          "model_name": "ProgressStyleModel",
          "state": {
            "_view_name": "StyleView",
            "_model_name": "ProgressStyleModel",
            "description_width": "initial",
            "_view_module": "@jupyter-widgets/base",
            "_model_module_version": "1.5.0",
            "_view_count": null,
            "_view_module_version": "1.2.0",
            "bar_color": null,
            "_model_module": "@jupyter-widgets/controls"
          }
        },
        "7958ac6fa16a4031860985facbe278c7": {
          "model_module": "@jupyter-widgets/base",
          "model_name": "LayoutModel",
          "state": {
            "_view_name": "LayoutView",
            "grid_template_rows": null,
            "right": null,
            "justify_content": null,
            "_view_module": "@jupyter-widgets/base",
            "overflow": null,
            "_model_module_version": "1.2.0",
            "_view_count": null,
            "flex_flow": null,
            "width": null,
            "min_width": null,
            "border": null,
            "align_items": null,
            "bottom": null,
            "_model_module": "@jupyter-widgets/base",
            "top": null,
            "grid_column": null,
            "overflow_y": null,
            "overflow_x": null,
            "grid_auto_flow": null,
            "grid_area": null,
            "grid_template_columns": null,
            "flex": null,
            "_model_name": "LayoutModel",
            "justify_items": null,
            "grid_row": null,
            "max_height": null,
            "align_content": null,
            "visibility": null,
            "align_self": null,
            "height": null,
            "min_height": null,
            "padding": null,
            "grid_auto_rows": null,
            "grid_gap": null,
            "max_width": null,
            "order": null,
            "_view_module_version": "1.2.0",
            "grid_template_areas": null,
            "object_position": null,
            "object_fit": null,
            "grid_auto_columns": null,
            "margin": null,
            "display": null,
            "left": null
          }
        },
        "ae3df8cc2c734911b41465b709e6c3f9": {
          "model_module": "@jupyter-widgets/controls",
          "model_name": "DescriptionStyleModel",
          "state": {
            "_view_name": "StyleView",
            "_model_name": "DescriptionStyleModel",
            "description_width": "",
            "_view_module": "@jupyter-widgets/base",
            "_model_module_version": "1.5.0",
            "_view_count": null,
            "_view_module_version": "1.2.0",
            "_model_module": "@jupyter-widgets/controls"
          }
        },
        "68beba8b17b846ecb87ecb437cc26618": {
          "model_module": "@jupyter-widgets/base",
          "model_name": "LayoutModel",
          "state": {
            "_view_name": "LayoutView",
            "grid_template_rows": null,
            "right": null,
            "justify_content": null,
            "_view_module": "@jupyter-widgets/base",
            "overflow": null,
            "_model_module_version": "1.2.0",
            "_view_count": null,
            "flex_flow": null,
            "width": null,
            "min_width": null,
            "border": null,
            "align_items": null,
            "bottom": null,
            "_model_module": "@jupyter-widgets/base",
            "top": null,
            "grid_column": null,
            "overflow_y": null,
            "overflow_x": null,
            "grid_auto_flow": null,
            "grid_area": null,
            "grid_template_columns": null,
            "flex": null,
            "_model_name": "LayoutModel",
            "justify_items": null,
            "grid_row": null,
            "max_height": null,
            "align_content": null,
            "visibility": null,
            "align_self": null,
            "height": null,
            "min_height": null,
            "padding": null,
            "grid_auto_rows": null,
            "grid_gap": null,
            "max_width": null,
            "order": null,
            "_view_module_version": "1.2.0",
            "grid_template_areas": null,
            "object_position": null,
            "object_fit": null,
            "grid_auto_columns": null,
            "margin": null,
            "display": null,
            "left": null
          }
        },
        "d85e1c8d2c054ae7b2e269217f145330": {
          "model_module": "@jupyter-widgets/controls",
          "model_name": "HBoxModel",
          "state": {
            "_view_name": "HBoxView",
            "_dom_classes": [],
            "_model_name": "HBoxModel",
            "_view_module": "@jupyter-widgets/controls",
            "_model_module_version": "1.5.0",
            "_view_count": null,
            "_view_module_version": "1.5.0",
            "box_style": "",
            "layout": "IPY_MODEL_8387289a28e04a0a82f179baeb93429f",
            "_model_module": "@jupyter-widgets/controls",
            "children": [
              "IPY_MODEL_4b9888c8ef6a4fa0b95e8390aff88f00",
              "IPY_MODEL_b7bcb8cc9056493b880986b912d9014c"
            ]
          }
        },
        "8387289a28e04a0a82f179baeb93429f": {
          "model_module": "@jupyter-widgets/base",
          "model_name": "LayoutModel",
          "state": {
            "_view_name": "LayoutView",
            "grid_template_rows": null,
            "right": null,
            "justify_content": null,
            "_view_module": "@jupyter-widgets/base",
            "overflow": null,
            "_model_module_version": "1.2.0",
            "_view_count": null,
            "flex_flow": null,
            "width": null,
            "min_width": null,
            "border": null,
            "align_items": null,
            "bottom": null,
            "_model_module": "@jupyter-widgets/base",
            "top": null,
            "grid_column": null,
            "overflow_y": null,
            "overflow_x": null,
            "grid_auto_flow": null,
            "grid_area": null,
            "grid_template_columns": null,
            "flex": null,
            "_model_name": "LayoutModel",
            "justify_items": null,
            "grid_row": null,
            "max_height": null,
            "align_content": null,
            "visibility": null,
            "align_self": null,
            "height": null,
            "min_height": null,
            "padding": null,
            "grid_auto_rows": null,
            "grid_gap": null,
            "max_width": null,
            "order": null,
            "_view_module_version": "1.2.0",
            "grid_template_areas": null,
            "object_position": null,
            "object_fit": null,
            "grid_auto_columns": null,
            "margin": null,
            "display": null,
            "left": null
          }
        },
        "4b9888c8ef6a4fa0b95e8390aff88f00": {
          "model_module": "@jupyter-widgets/controls",
          "model_name": "FloatProgressModel",
          "state": {
            "_view_name": "ProgressView",
            "style": "IPY_MODEL_13e41214dcaa410fab7598d132d4d0fb",
            "_dom_classes": [],
            "description": "Downloading: 100%",
            "_model_name": "FloatProgressModel",
            "bar_style": "success",
            "max": 456318,
            "_view_module": "@jupyter-widgets/controls",
            "_model_module_version": "1.5.0",
            "value": 456318,
            "_view_count": null,
            "_view_module_version": "1.5.0",
            "orientation": "horizontal",
            "min": 0,
            "description_tooltip": null,
            "_model_module": "@jupyter-widgets/controls",
            "layout": "IPY_MODEL_ab2ff8f861ad4cb4ab8f3d9853dffa36"
          }
        },
        "b7bcb8cc9056493b880986b912d9014c": {
          "model_module": "@jupyter-widgets/controls",
          "model_name": "HTMLModel",
          "state": {
            "_view_name": "HTMLView",
            "style": "IPY_MODEL_8e2f3c6bf07c4dd2bc899bdf9bdd0233",
            "_dom_classes": [],
            "description": "",
            "_model_name": "HTMLModel",
            "placeholder": "​",
            "_view_module": "@jupyter-widgets/controls",
            "_model_module_version": "1.5.0",
            "value": " 456k/456k [00:03&lt;00:00, 124kB/s]",
            "_view_count": null,
            "_view_module_version": "1.5.0",
            "description_tooltip": null,
            "_model_module": "@jupyter-widgets/controls",
            "layout": "IPY_MODEL_04ecb730487846c28e2606ba67a45c08"
          }
        },
        "13e41214dcaa410fab7598d132d4d0fb": {
          "model_module": "@jupyter-widgets/controls",
          "model_name": "ProgressStyleModel",
          "state": {
            "_view_name": "StyleView",
            "_model_name": "ProgressStyleModel",
            "description_width": "initial",
            "_view_module": "@jupyter-widgets/base",
            "_model_module_version": "1.5.0",
            "_view_count": null,
            "_view_module_version": "1.2.0",
            "bar_color": null,
            "_model_module": "@jupyter-widgets/controls"
          }
        },
        "ab2ff8f861ad4cb4ab8f3d9853dffa36": {
          "model_module": "@jupyter-widgets/base",
          "model_name": "LayoutModel",
          "state": {
            "_view_name": "LayoutView",
            "grid_template_rows": null,
            "right": null,
            "justify_content": null,
            "_view_module": "@jupyter-widgets/base",
            "overflow": null,
            "_model_module_version": "1.2.0",
            "_view_count": null,
            "flex_flow": null,
            "width": null,
            "min_width": null,
            "border": null,
            "align_items": null,
            "bottom": null,
            "_model_module": "@jupyter-widgets/base",
            "top": null,
            "grid_column": null,
            "overflow_y": null,
            "overflow_x": null,
            "grid_auto_flow": null,
            "grid_area": null,
            "grid_template_columns": null,
            "flex": null,
            "_model_name": "LayoutModel",
            "justify_items": null,
            "grid_row": null,
            "max_height": null,
            "align_content": null,
            "visibility": null,
            "align_self": null,
            "height": null,
            "min_height": null,
            "padding": null,
            "grid_auto_rows": null,
            "grid_gap": null,
            "max_width": null,
            "order": null,
            "_view_module_version": "1.2.0",
            "grid_template_areas": null,
            "object_position": null,
            "object_fit": null,
            "grid_auto_columns": null,
            "margin": null,
            "display": null,
            "left": null
          }
        },
        "8e2f3c6bf07c4dd2bc899bdf9bdd0233": {
          "model_module": "@jupyter-widgets/controls",
          "model_name": "DescriptionStyleModel",
          "state": {
            "_view_name": "StyleView",
            "_model_name": "DescriptionStyleModel",
            "description_width": "",
            "_view_module": "@jupyter-widgets/base",
            "_model_module_version": "1.5.0",
            "_view_count": null,
            "_view_module_version": "1.2.0",
            "_model_module": "@jupyter-widgets/controls"
          }
        },
        "04ecb730487846c28e2606ba67a45c08": {
          "model_module": "@jupyter-widgets/base",
          "model_name": "LayoutModel",
          "state": {
            "_view_name": "LayoutView",
            "grid_template_rows": null,
            "right": null,
            "justify_content": null,
            "_view_module": "@jupyter-widgets/base",
            "overflow": null,
            "_model_module_version": "1.2.0",
            "_view_count": null,
            "flex_flow": null,
            "width": null,
            "min_width": null,
            "border": null,
            "align_items": null,
            "bottom": null,
            "_model_module": "@jupyter-widgets/base",
            "top": null,
            "grid_column": null,
            "overflow_y": null,
            "overflow_x": null,
            "grid_auto_flow": null,
            "grid_area": null,
            "grid_template_columns": null,
            "flex": null,
            "_model_name": "LayoutModel",
            "justify_items": null,
            "grid_row": null,
            "max_height": null,
            "align_content": null,
            "visibility": null,
            "align_self": null,
            "height": null,
            "min_height": null,
            "padding": null,
            "grid_auto_rows": null,
            "grid_gap": null,
            "max_width": null,
            "order": null,
            "_view_module_version": "1.2.0",
            "grid_template_areas": null,
            "object_position": null,
            "object_fit": null,
            "grid_auto_columns": null,
            "margin": null,
            "display": null,
            "left": null
          }
        },
        "a8a6d984ab8846f2a2d3d48fe9383739": {
          "model_module": "@jupyter-widgets/controls",
          "model_name": "HBoxModel",
          "state": {
            "_view_name": "HBoxView",
            "_dom_classes": [],
            "_model_name": "HBoxModel",
            "_view_module": "@jupyter-widgets/controls",
            "_model_module_version": "1.5.0",
            "_view_count": null,
            "_view_module_version": "1.5.0",
            "box_style": "",
            "layout": "IPY_MODEL_574d970da24440dcaec14a10a0cbefc2",
            "_model_module": "@jupyter-widgets/controls",
            "children": [
              "IPY_MODEL_f3c890cd03ad482b93add7cde459b49b",
              "IPY_MODEL_44ba6b0031a34cf5a65e05b64ec244af"
            ]
          }
        },
        "574d970da24440dcaec14a10a0cbefc2": {
          "model_module": "@jupyter-widgets/base",
          "model_name": "LayoutModel",
          "state": {
            "_view_name": "LayoutView",
            "grid_template_rows": null,
            "right": null,
            "justify_content": null,
            "_view_module": "@jupyter-widgets/base",
            "overflow": null,
            "_model_module_version": "1.2.0",
            "_view_count": null,
            "flex_flow": null,
            "width": null,
            "min_width": null,
            "border": null,
            "align_items": null,
            "bottom": null,
            "_model_module": "@jupyter-widgets/base",
            "top": null,
            "grid_column": null,
            "overflow_y": null,
            "overflow_x": null,
            "grid_auto_flow": null,
            "grid_area": null,
            "grid_template_columns": null,
            "flex": null,
            "_model_name": "LayoutModel",
            "justify_items": null,
            "grid_row": null,
            "max_height": null,
            "align_content": null,
            "visibility": null,
            "align_self": null,
            "height": null,
            "min_height": null,
            "padding": null,
            "grid_auto_rows": null,
            "grid_gap": null,
            "max_width": null,
            "order": null,
            "_view_module_version": "1.2.0",
            "grid_template_areas": null,
            "object_position": null,
            "object_fit": null,
            "grid_auto_columns": null,
            "margin": null,
            "display": null,
            "left": null
          }
        },
        "f3c890cd03ad482b93add7cde459b49b": {
          "model_module": "@jupyter-widgets/controls",
          "model_name": "FloatProgressModel",
          "state": {
            "_view_name": "ProgressView",
            "style": "IPY_MODEL_17ad838aeb714ba2a788f7e7eaac0bbf",
            "_dom_classes": [],
            "description": "Downloading: 100%",
            "_model_name": "FloatProgressModel",
            "bar_style": "success",
            "max": 26,
            "_view_module": "@jupyter-widgets/controls",
            "_model_module_version": "1.5.0",
            "value": 26,
            "_view_count": null,
            "_view_module_version": "1.5.0",
            "orientation": "horizontal",
            "min": 0,
            "description_tooltip": null,
            "_model_module": "@jupyter-widgets/controls",
            "layout": "IPY_MODEL_486695a4e3264e198e4f16117a3839ff"
          }
        },
        "44ba6b0031a34cf5a65e05b64ec244af": {
          "model_module": "@jupyter-widgets/controls",
          "model_name": "HTMLModel",
          "state": {
            "_view_name": "HTMLView",
            "style": "IPY_MODEL_1dba2d56f45d4884b157cd9972c1e300",
            "_dom_classes": [],
            "description": "",
            "_model_name": "HTMLModel",
            "placeholder": "​",
            "_view_module": "@jupyter-widgets/controls",
            "_model_module_version": "1.5.0",
            "value": " 26.0/26.0 [00:00&lt;00:00, 228B/s]",
            "_view_count": null,
            "_view_module_version": "1.5.0",
            "description_tooltip": null,
            "_model_module": "@jupyter-widgets/controls",
            "layout": "IPY_MODEL_2b39ff98bb2147ffa9c391c3569d80be"
          }
        },
        "17ad838aeb714ba2a788f7e7eaac0bbf": {
          "model_module": "@jupyter-widgets/controls",
          "model_name": "ProgressStyleModel",
          "state": {
            "_view_name": "StyleView",
            "_model_name": "ProgressStyleModel",
            "description_width": "initial",
            "_view_module": "@jupyter-widgets/base",
            "_model_module_version": "1.5.0",
            "_view_count": null,
            "_view_module_version": "1.2.0",
            "bar_color": null,
            "_model_module": "@jupyter-widgets/controls"
          }
        },
        "486695a4e3264e198e4f16117a3839ff": {
          "model_module": "@jupyter-widgets/base",
          "model_name": "LayoutModel",
          "state": {
            "_view_name": "LayoutView",
            "grid_template_rows": null,
            "right": null,
            "justify_content": null,
            "_view_module": "@jupyter-widgets/base",
            "overflow": null,
            "_model_module_version": "1.2.0",
            "_view_count": null,
            "flex_flow": null,
            "width": null,
            "min_width": null,
            "border": null,
            "align_items": null,
            "bottom": null,
            "_model_module": "@jupyter-widgets/base",
            "top": null,
            "grid_column": null,
            "overflow_y": null,
            "overflow_x": null,
            "grid_auto_flow": null,
            "grid_area": null,
            "grid_template_columns": null,
            "flex": null,
            "_model_name": "LayoutModel",
            "justify_items": null,
            "grid_row": null,
            "max_height": null,
            "align_content": null,
            "visibility": null,
            "align_self": null,
            "height": null,
            "min_height": null,
            "padding": null,
            "grid_auto_rows": null,
            "grid_gap": null,
            "max_width": null,
            "order": null,
            "_view_module_version": "1.2.0",
            "grid_template_areas": null,
            "object_position": null,
            "object_fit": null,
            "grid_auto_columns": null,
            "margin": null,
            "display": null,
            "left": null
          }
        },
        "1dba2d56f45d4884b157cd9972c1e300": {
          "model_module": "@jupyter-widgets/controls",
          "model_name": "DescriptionStyleModel",
          "state": {
            "_view_name": "StyleView",
            "_model_name": "DescriptionStyleModel",
            "description_width": "",
            "_view_module": "@jupyter-widgets/base",
            "_model_module_version": "1.5.0",
            "_view_count": null,
            "_view_module_version": "1.2.0",
            "_model_module": "@jupyter-widgets/controls"
          }
        },
        "2b39ff98bb2147ffa9c391c3569d80be": {
          "model_module": "@jupyter-widgets/base",
          "model_name": "LayoutModel",
          "state": {
            "_view_name": "LayoutView",
            "grid_template_rows": null,
            "right": null,
            "justify_content": null,
            "_view_module": "@jupyter-widgets/base",
            "overflow": null,
            "_model_module_version": "1.2.0",
            "_view_count": null,
            "flex_flow": null,
            "width": null,
            "min_width": null,
            "border": null,
            "align_items": null,
            "bottom": null,
            "_model_module": "@jupyter-widgets/base",
            "top": null,
            "grid_column": null,
            "overflow_y": null,
            "overflow_x": null,
            "grid_auto_flow": null,
            "grid_area": null,
            "grid_template_columns": null,
            "flex": null,
            "_model_name": "LayoutModel",
            "justify_items": null,
            "grid_row": null,
            "max_height": null,
            "align_content": null,
            "visibility": null,
            "align_self": null,
            "height": null,
            "min_height": null,
            "padding": null,
            "grid_auto_rows": null,
            "grid_gap": null,
            "max_width": null,
            "order": null,
            "_view_module_version": "1.2.0",
            "grid_template_areas": null,
            "object_position": null,
            "object_fit": null,
            "grid_auto_columns": null,
            "margin": null,
            "display": null,
            "left": null
          }
        }
      }
    }
  },
  "cells": [
    {
      "cell_type": "markdown",
      "metadata": {
        "id": "view-in-github",
        "colab_type": "text"
      },
      "source": [
        "<a href=\"https://colab.research.google.com/github/vishnukanduri/Blog-Post-Summarization/blob/main/Blog_Post_Summarization.ipynb\" target=\"_parent\"><img src=\"https://colab.research.google.com/assets/colab-badge.svg\" alt=\"Open In Colab\"/></a>"
      ]
    },
    {
      "cell_type": "markdown",
      "metadata": {
        "id": "g1UIwHO2b4ro"
      },
      "source": [
        "# Installing Transformers & Importing Dependencies"
      ]
    },
    {
      "cell_type": "code",
      "metadata": {
        "colab": {
          "base_uri": "https://localhost:8080/"
        },
        "id": "zrVltbaZbm_J",
        "outputId": "ca08a55d-e7d3-448c-b99f-462b59b00310"
      },
      "source": [
        "!pip install transformers"
      ],
      "execution_count": null,
      "outputs": [
        {
          "output_type": "stream",
          "text": [
            "Collecting transformers\n",
            "\u001b[?25l  Downloading https://files.pythonhosted.org/packages/2c/d8/5144b0712f7f82229a8da5983a8fbb8d30cec5fbd5f8d12ffe1854dcea67/transformers-4.4.1-py3-none-any.whl (2.1MB)\n",
            "\u001b[K     |████████████████████████████████| 2.1MB 5.5MB/s \n",
            "\u001b[?25hRequirement already satisfied: numpy>=1.17 in /usr/local/lib/python3.7/dist-packages (from transformers) (1.19.5)\n",
            "Requirement already satisfied: tqdm>=4.27 in /usr/local/lib/python3.7/dist-packages (from transformers) (4.41.1)\n",
            "Requirement already satisfied: packaging in /usr/local/lib/python3.7/dist-packages (from transformers) (20.9)\n",
            "Requirement already satisfied: regex!=2019.12.17 in /usr/local/lib/python3.7/dist-packages (from transformers) (2019.12.20)\n",
            "Requirement already satisfied: importlib-metadata; python_version < \"3.8\" in /usr/local/lib/python3.7/dist-packages (from transformers) (3.7.2)\n",
            "Collecting sacremoses\n",
            "\u001b[?25l  Downloading https://files.pythonhosted.org/packages/7d/34/09d19aff26edcc8eb2a01bed8e98f13a1537005d31e95233fd48216eed10/sacremoses-0.0.43.tar.gz (883kB)\n",
            "\u001b[K     |████████████████████████████████| 890kB 16.4MB/s \n",
            "\u001b[?25hRequirement already satisfied: requests in /usr/local/lib/python3.7/dist-packages (from transformers) (2.23.0)\n",
            "Collecting tokenizers<0.11,>=0.10.1\n",
            "\u001b[?25l  Downloading https://files.pythonhosted.org/packages/71/23/2ddc317b2121117bf34dd00f5b0de194158f2a44ee2bf5e47c7166878a97/tokenizers-0.10.1-cp37-cp37m-manylinux2010_x86_64.whl (3.2MB)\n",
            "\u001b[K     |████████████████████████████████| 3.2MB 30.8MB/s \n",
            "\u001b[?25hRequirement already satisfied: filelock in /usr/local/lib/python3.7/dist-packages (from transformers) (3.0.12)\n",
            "Requirement already satisfied: pyparsing>=2.0.2 in /usr/local/lib/python3.7/dist-packages (from packaging->transformers) (2.4.7)\n",
            "Requirement already satisfied: typing-extensions>=3.6.4; python_version < \"3.8\" in /usr/local/lib/python3.7/dist-packages (from importlib-metadata; python_version < \"3.8\"->transformers) (3.7.4.3)\n",
            "Requirement already satisfied: zipp>=0.5 in /usr/local/lib/python3.7/dist-packages (from importlib-metadata; python_version < \"3.8\"->transformers) (3.4.1)\n",
            "Requirement already satisfied: six in /usr/local/lib/python3.7/dist-packages (from sacremoses->transformers) (1.15.0)\n",
            "Requirement already satisfied: click in /usr/local/lib/python3.7/dist-packages (from sacremoses->transformers) (7.1.2)\n",
            "Requirement already satisfied: joblib in /usr/local/lib/python3.7/dist-packages (from sacremoses->transformers) (1.0.1)\n",
            "Requirement already satisfied: certifi>=2017.4.17 in /usr/local/lib/python3.7/dist-packages (from requests->transformers) (2020.12.5)\n",
            "Requirement already satisfied: urllib3!=1.25.0,!=1.25.1,<1.26,>=1.21.1 in /usr/local/lib/python3.7/dist-packages (from requests->transformers) (1.24.3)\n",
            "Requirement already satisfied: idna<3,>=2.5 in /usr/local/lib/python3.7/dist-packages (from requests->transformers) (2.10)\n",
            "Requirement already satisfied: chardet<4,>=3.0.2 in /usr/local/lib/python3.7/dist-packages (from requests->transformers) (3.0.4)\n",
            "Building wheels for collected packages: sacremoses\n",
            "  Building wheel for sacremoses (setup.py) ... \u001b[?25l\u001b[?25hdone\n",
            "  Created wheel for sacremoses: filename=sacremoses-0.0.43-cp37-none-any.whl size=893262 sha256=6d099443627dc0f236f7a77fe711e3c5757ff9b721789b2582b6348f7fc5184f\n",
            "  Stored in directory: /root/.cache/pip/wheels/29/3c/fd/7ce5c3f0666dab31a50123635e6fb5e19ceb42ce38d4e58f45\n",
            "Successfully built sacremoses\n",
            "Installing collected packages: sacremoses, tokenizers, transformers\n",
            "Successfully installed sacremoses-0.0.43 tokenizers-0.10.1 transformers-4.4.1\n"
          ],
          "name": "stdout"
        }
      ]
    },
    {
      "cell_type": "code",
      "metadata": {
        "id": "nR-Hxz25bK-h"
      },
      "source": [
        "from transformers import pipeline\n",
        "from bs4 import BeautifulSoup\n",
        "import requests"
      ],
      "execution_count": null,
      "outputs": []
    },
    {
      "cell_type": "markdown",
      "metadata": {
        "id": "37mcJVrLb_X_"
      },
      "source": [
        "# Load Summarization Pipeline"
      ]
    },
    {
      "cell_type": "code",
      "metadata": {
        "colab": {
          "base_uri": "https://localhost:8080/",
          "height": 314,
          "referenced_widgets": [
            "1a51ec1232d74453a9ec6550db06af20",
            "c7c112f694f94353acc67627bca2b9df",
            "95db4b257f43437c8237912c9561c0d9",
            "4177ff2e0fc24affacba7bcab06db945",
            "34994f4181d840fd9a36139cab20b73d",
            "c26f1b33566347ad8172d3155f636d00",
            "0654be3b9aeb47e2854f2ed4167800a0",
            "d1bf840ed7164a7b828484c9c2b10758",
            "7aee8a2ebbe64368927465f0242e8bf3",
            "892df1027263496d8993c03e83a11aa6",
            "abbbdc6f1ea14d868177147c14291455",
            "7ed1a3ade8db4567b39f847f2d7b4783",
            "2a0a4b506750479a80a085ec2237b251",
            "28000be91c6649f985de4b77f8bc8d50",
            "fd49b5b9e1c34da5b1794947ba661a86",
            "ecaa18bb4d9f4676bf7fe90b110df641",
            "d8fdc8f8862a497b89e452cf386c5f2f",
            "68eea732b27a460789f2f2a362802d28",
            "64df380a68bb4cebbd3036501876b3c4",
            "7eff70a431f84b6a8fe0101be9f1b719",
            "8396b28bfc854f809f18c72385245dac",
            "7958ac6fa16a4031860985facbe278c7",
            "ae3df8cc2c734911b41465b709e6c3f9",
            "68beba8b17b846ecb87ecb437cc26618",
            "d85e1c8d2c054ae7b2e269217f145330",
            "8387289a28e04a0a82f179baeb93429f",
            "4b9888c8ef6a4fa0b95e8390aff88f00",
            "b7bcb8cc9056493b880986b912d9014c",
            "13e41214dcaa410fab7598d132d4d0fb",
            "ab2ff8f861ad4cb4ab8f3d9853dffa36",
            "8e2f3c6bf07c4dd2bc899bdf9bdd0233",
            "04ecb730487846c28e2606ba67a45c08",
            "a8a6d984ab8846f2a2d3d48fe9383739",
            "574d970da24440dcaec14a10a0cbefc2",
            "f3c890cd03ad482b93add7cde459b49b",
            "44ba6b0031a34cf5a65e05b64ec244af",
            "17ad838aeb714ba2a788f7e7eaac0bbf",
            "486695a4e3264e198e4f16117a3839ff",
            "1dba2d56f45d4884b157cd9972c1e300",
            "2b39ff98bb2147ffa9c391c3569d80be"
          ]
        },
        "id": "9I0zrRK_blZU",
        "outputId": "d75138a6-147a-4a3a-b444-f768670c5cc1"
      },
      "source": [
        "summarizer = pipeline('summarization')"
      ],
      "execution_count": null,
      "outputs": [
        {
          "output_type": "display_data",
          "data": {
            "application/vnd.jupyter.widget-view+json": {
              "model_id": "1a51ec1232d74453a9ec6550db06af20",
              "version_minor": 0,
              "version_major": 2
            },
            "text/plain": [
              "HBox(children=(FloatProgress(value=0.0, description='Downloading', max=1621.0, style=ProgressStyle(description…"
            ]
          },
          "metadata": {
            "tags": []
          }
        },
        {
          "output_type": "stream",
          "text": [
            "\n"
          ],
          "name": "stdout"
        },
        {
          "output_type": "stream",
          "text": [
            "/usr/local/lib/python3.7/dist-packages/transformers/models/bart/configuration_bart.py:178: UserWarning: Please make sure the config includes `forced_bos_token_id=0` in future versions.The config can simply be saved and uploaded again to be fixed.\n",
            "  f\"Please make sure the config includes `forced_bos_token_id={self.bos_token_id}` in future versions.\"\n"
          ],
          "name": "stderr"
        },
        {
          "output_type": "display_data",
          "data": {
            "application/vnd.jupyter.widget-view+json": {
              "model_id": "7aee8a2ebbe64368927465f0242e8bf3",
              "version_minor": 0,
              "version_major": 2
            },
            "text/plain": [
              "HBox(children=(FloatProgress(value=0.0, description='Downloading', max=1222317369.0, style=ProgressStyle(descr…"
            ]
          },
          "metadata": {
            "tags": []
          }
        },
        {
          "output_type": "stream",
          "text": [
            "\n"
          ],
          "name": "stdout"
        },
        {
          "output_type": "display_data",
          "data": {
            "application/vnd.jupyter.widget-view+json": {
              "model_id": "d8fdc8f8862a497b89e452cf386c5f2f",
              "version_minor": 0,
              "version_major": 2
            },
            "text/plain": [
              "HBox(children=(FloatProgress(value=0.0, description='Downloading', max=898822.0, style=ProgressStyle(descripti…"
            ]
          },
          "metadata": {
            "tags": []
          }
        },
        {
          "output_type": "stream",
          "text": [
            "\n"
          ],
          "name": "stdout"
        },
        {
          "output_type": "display_data",
          "data": {
            "application/vnd.jupyter.widget-view+json": {
              "model_id": "d85e1c8d2c054ae7b2e269217f145330",
              "version_minor": 0,
              "version_major": 2
            },
            "text/plain": [
              "HBox(children=(FloatProgress(value=0.0, description='Downloading', max=456318.0, style=ProgressStyle(descripti…"
            ]
          },
          "metadata": {
            "tags": []
          }
        },
        {
          "output_type": "stream",
          "text": [
            "\n"
          ],
          "name": "stdout"
        },
        {
          "output_type": "display_data",
          "data": {
            "application/vnd.jupyter.widget-view+json": {
              "model_id": "a8a6d984ab8846f2a2d3d48fe9383739",
              "version_minor": 0,
              "version_major": 2
            },
            "text/plain": [
              "HBox(children=(FloatProgress(value=0.0, description='Downloading', max=26.0, style=ProgressStyle(description_w…"
            ]
          },
          "metadata": {
            "tags": []
          }
        },
        {
          "output_type": "stream",
          "text": [
            "\n"
          ],
          "name": "stdout"
        }
      ]
    },
    {
      "cell_type": "markdown",
      "metadata": {
        "id": "OdrOOup3cbRK"
      },
      "source": [
        "# Get Blog Post"
      ]
    },
    {
      "cell_type": "code",
      "metadata": {
        "id": "7_VOj-PhcaXC"
      },
      "source": [
        "url = 'https://www.analyticsvidhya.com/blog/2021/02/dialogue-summarization-a-deep-learning-approach/'"
      ],
      "execution_count": null,
      "outputs": []
    },
    {
      "cell_type": "code",
      "metadata": {
        "id": "SDNDrdnWcTBd"
      },
      "source": [
        "r = requests.get(url)"
      ],
      "execution_count": null,
      "outputs": []
    },
    {
      "cell_type": "code",
      "metadata": {
        "colab": {
          "base_uri": "https://localhost:8080/"
        },
        "id": "5xTUV9CQczlV",
        "outputId": "ee5ef25f-35cf-4ff4-eef0-91d5a336f3cb"
      },
      "source": [
        "r"
      ],
      "execution_count": null,
      "outputs": [
        {
          "output_type": "execute_result",
          "data": {
            "text/plain": [
              "<Response [200]>"
            ]
          },
          "metadata": {
            "tags": []
          },
          "execution_count": 6
        }
      ]
    },
    {
      "cell_type": "code",
      "metadata": {
        "id": "-3RzzDLTcmdb"
      },
      "source": [
        "soup = BeautifulSoup(r.text, 'html.parser')"
      ],
      "execution_count": null,
      "outputs": []
    },
    {
      "cell_type": "code",
      "metadata": {
        "colab": {
          "base_uri": "https://localhost:8080/"
        },
        "id": "Pi-fRGSXc0po",
        "outputId": "741525e5-35bd-4625-b196-c76f4beeb59c"
      },
      "source": [
        "results = soup.find_all(['h1', 'p'])\n",
        "results"
      ],
      "execution_count": null,
      "outputs": [
        {
          "output_type": "execute_result",
          "data": {
            "text/plain": [
              "[<p></p>,\n",
              " <h1 class=\"entry-title\" itemprop=\"name\">Dialogue Summarization: A Deep Learning Approach</h1>,\n",
              " <p style=\"text-align: left;\"><em>This article was published as a part of the <a href=\"https://datahack.analyticsvidhya.com/contest/data-science-blogathon-5/\" rel=\"noopener\" target=\"_blank\">Data Science Blogathon</a>.</em></p>,\n",
              " <p><img alt=\"dialogue summarization\" class=\"alignnone size-full wp-image-75843\" height=\"540\" loading=\"lazy\" sizes=\"(max-width: 960px) 100vw, 960px\" src=\"https://cdn.analyticsvidhya.com/wp-content/uploads/2021/02/1cover1.jpg\" srcset=\"https://cdn.analyticsvidhya.com/wp-content/uploads/2021/02/1cover1.jpg 960w, https://cdn.analyticsvidhya.com/wp-content/uploads/2021/02/1cover1-300x169.jpg 300w, https://cdn.analyticsvidhya.com/wp-content/uploads/2021/02/1cover1-768x432.jpg 768w, https://cdn.analyticsvidhya.com/wp-content/uploads/2021/02/1cover1-850x478.jpg 850w, https://cdn.analyticsvidhya.com/wp-content/uploads/2021/02/1cover1-257x144.jpg 257w\" width=\"960\"/></p>,\n",
              " <p style=\"text-align: center;\">Dialogue Summarization: Its types and methodology</p>,\n",
              " <p style=\"text-align: center;\">  Image cc: Aseem Srivastava</p>,\n",
              " <p class=\"\"><span class=\"comment-highlite\" data-commentid=\"749\" id=\"spancomment749\">Summarizing long pieces of text is a challenging problem. Summarization is done primarily in two ways: <b>extractive approach</b> and <b>abstractive approach</b>. In this work, we break down the problem of meeting summarization into extractive and abstractive components which further collectively generate a summary of the conversation.</span></p>,\n",
              " <p> </p>,\n",
              " <p> </p>,\n",
              " <p>The input to the encoder-decoder model is given in 512 length embedding which is generated after processing the AMI input from a BERT-based extractive summarizer where we apply k-means on a BERT sentence-level embedding. We use two variants of this approach, with and without fine-tuning.</p>,\n",
              " <p><div class=\"wp-caption aligncenter\" id=\"attachment_75846\" style=\"width: 960px\"><img alt=\"Dialogue summarization architecture\" aria-describedby=\"caption-attachment-75846\" class=\"wp-image-75846 size-full\" height=\"540\" loading=\"lazy\" sizes=\"(max-width: 960px) 100vw, 960px\" src=\"https://cdn.analyticsvidhya.com/wp-content/uploads/2021/02/DIAGRAM-EXPORT.png\" srcset=\"https://cdn.analyticsvidhya.com/wp-content/uploads/2021/02/DIAGRAM-EXPORT.png 960w, https://cdn.analyticsvidhya.com/wp-content/uploads/2021/02/DIAGRAM-EXPORT-300x169.png 300w, https://cdn.analyticsvidhya.com/wp-content/uploads/2021/02/DIAGRAM-EXPORT-768x432.png 768w, https://cdn.analyticsvidhya.com/wp-content/uploads/2021/02/DIAGRAM-EXPORT-850x478.png 850w, https://cdn.analyticsvidhya.com/wp-content/uploads/2021/02/DIAGRAM-EXPORT-257x144.png 257w\" width=\"960\"><p class=\"wp-caption-text\" id=\"caption-attachment-75846\">Model Architecture</p></img></div></p>,\n",
              " <p class=\"wp-caption-text\" id=\"caption-attachment-75846\">Model Architecture</p>,\n",
              " <p>This is an incredibly difficult task that may seem impossible, even for people, and we don’t expect the model to solve it perfectly. However, It is a problematic task that encourages the model to get to know about language as well as facts about the world, as well as how to filter out information considered throughout the document to produce output that marginally relates to the fine-tuning our task. The pros of this self-supervision are that we could generate as many similar examples as there are documents, without any annotation, which is often the narrow section in supervised systems.</p>,\n",
              " <p> </p>,\n",
              " <p class=\"\">These metrics are respectively based on unigram, bigram, and unigram overlap with a maximum skip distance of 4, and be highly correlated with human evaluations. ROUGE-2 scores can be seen as a measure of summary readability. Also, there is one opposite way to evaluate the performance of the approach and that is the human evaluation metric.</p>,\n",
              " <p class=\"\">But it is slow and very expensive. Although, empirical studies show that the model’s performance judgment can be accurately done using ROGUE metric approaches in both automatic metrics and human evaluation. Table 1 gives a summary of all the experiments performed on the summarization task on the AMI dataset. The results clearly show that the results were improved by a considerable margin.</p>,\n",
              " <p class=\"wp-caption-text\" id=\"caption-attachment-75845\">Results(table)</p>,\n",
              " <p class=\"\">So in the end, let’s see if this work was new or something found on the first to last page of Google search!</p>,\n",
              " <p><strong><em>The media shown in this article are not owned by Analytics Vidhya and is used at the Author’s discretion.</em></strong></p>,\n",
              " <p><script async=\"\" src=\"//pagead2.googlesyndication.com/pagead/js/adsbygoogle.js\"></script><br/>\n",
              " <br/>\n",
              " <ins class=\"adsbygoogle\" data-ad-client=\"ca-pub-5229672700622157\" data-ad-slot=\"1620249624\" style=\"display: inline-block; width: 336px; height: 280px;\"></ins><br/>\n",
              " <script>\n",
              " (adsbygoogle = window.adsbygoogle || []).push({});\n",
              " </script></p>,\n",
              " <p>© Copyright 2013-2020 Analytics Vidhya</p>,\n",
              " <p><a href=\"https://ascendpro.analyticsvidhya.com/?utm_source=blog&amp;utm_medium=popup#DemoVideoFor\" rel=\"noopener noreferrer\" target=\"_blank\"><img src=\"https://www.analyticsvidhya.com/wp-content/uploads/2021/03/Ascend_Pro.jpg\"/></a></p>,\n",
              " <p><a href=\"https://ascendpro.analyticsvidhya.com/?utm_source=blog&amp;utm_medium=popup#DemoVideoFor\" rel=\"noopener noreferrer\" target=\"_blank\"><img src=\"https://www.analyticsvidhya.com/wp-content/uploads/2021/03/Ascend_Pro.jpg\"/></a></p>]"
            ]
          },
          "metadata": {
            "tags": []
          },
          "execution_count": 8
        }
      ]
    },
    {
      "cell_type": "code",
      "metadata": {
        "colab": {
          "base_uri": "https://localhost:8080/"
        },
        "id": "RPq2M4hldC-9",
        "outputId": "b058f440-40f3-41ce-ca96-1ac1f43166af"
      },
      "source": [
        "text = [result.text for result in results]\n",
        "text"
      ],
      "execution_count": null,
      "outputs": [
        {
          "output_type": "execute_result",
          "data": {
            "text/plain": [
              "['',\n",
              " 'Dialogue Summarization: A Deep Learning Approach',\n",
              " 'This article was published as a part of the Data Science Blogathon.',\n",
              " '',\n",
              " 'Dialogue Summarization: Its types and methodology',\n",
              " '\\xa0 Image cc: Aseem Srivastava',\n",
              " 'Summarizing long pieces of text is a challenging problem. Summarization is done primarily in two ways: extractive approach and abstractive approach. In this work, we break down the problem of meeting summarization into extractive and abstractive components which further collectively generate a summary of the conversation.',\n",
              " '\\xa0',\n",
              " '\\xa0',\n",
              " 'The input to the encoder-decoder model is given in 512 length embedding which is generated after processing the AMI input from a BERT-based extractive summarizer where we apply k-means on a BERT sentence-level embedding. We use two variants of this approach, with and without fine-tuning.',\n",
              " 'Model Architecture',\n",
              " 'Model Architecture',\n",
              " 'This is an incredibly difficult task that may seem impossible, even for people, and we don’t expect the model to solve it perfectly. However, It is a problematic task that encourages the model to get to know about language as well as facts about the world, as well as how to filter out information considered throughout the document to produce output that marginally relates to the fine-tuning our task. The pros of this self-supervision are that we could generate as many similar examples as there are documents, without any annotation, which is often the narrow section in supervised systems.',\n",
              " '\\xa0',\n",
              " 'These metrics are respectively based on unigram, bigram, and unigram overlap with a maximum skip distance of 4, and be highly correlated with human evaluations. ROUGE-2 scores can be seen as a measure of summary readability. Also, there is one opposite way to evaluate the performance of the approach and that is the human evaluation metric.',\n",
              " 'But it is slow and very expensive. Although, empirical studies show that the model’s performance judgment can be accurately done using ROGUE metric approaches in both automatic metrics and human evaluation. Table 1 gives a summary of all the experiments performed on the summarization task on the AMI dataset. The results clearly show that the results were improved by a considerable margin.',\n",
              " 'Results(table)',\n",
              " 'So in the end, let’s see if this work was new or something found on the first to last page of Google search!',\n",
              " 'The media shown in this article are not owned by Analytics Vidhya and is used at the Author’s discretion.',\n",
              " '\\n\\n\\n\\n(adsbygoogle = window.adsbygoogle || []).push({});\\n',\n",
              " '© Copyright 2013-2020 Analytics Vidhya',\n",
              " '',\n",
              " '']"
            ]
          },
          "metadata": {
            "tags": []
          },
          "execution_count": 9
        }
      ]
    },
    {
      "cell_type": "code",
      "metadata": {
        "colab": {
          "base_uri": "https://localhost:8080/",
          "height": 120
        },
        "id": "c3F4T4KidRhL",
        "outputId": "16cae403-3cec-4df1-e929-4e8c6173b9e7"
      },
      "source": [
        "article = ' '.join(text)\n",
        "article"
      ],
      "execution_count": null,
      "outputs": [
        {
          "output_type": "execute_result",
          "data": {
            "application/vnd.google.colaboratory.intrinsic+json": {
              "type": "string"
            },
            "text/plain": [
              "' Dialogue Summarization: A Deep Learning Approach This article was published as a part of the Data Science Blogathon.  Dialogue Summarization: Its types and methodology \\xa0 Image cc: Aseem Srivastava Summarizing long pieces of text is a challenging problem. Summarization is done primarily in two ways: extractive approach and abstractive approach. In this work, we break down the problem of meeting summarization into extractive and abstractive components which further collectively generate a summary of the conversation. \\xa0 \\xa0 The input to the encoder-decoder model is given in 512 length embedding which is generated after processing the AMI input from a BERT-based extractive summarizer where we apply k-means on a BERT sentence-level embedding. We use two variants of this approach, with and without fine-tuning. Model Architecture Model Architecture This is an incredibly difficult task that may seem impossible, even for people, and we don’t expect the model to solve it perfectly. However, It is a problematic task that encourages the model to get to know about language as well as facts about the world, as well as how to filter out information considered throughout the document to produce output that marginally relates to the fine-tuning our task. The pros of this self-supervision are that we could generate as many similar examples as there are documents, without any annotation, which is often the narrow section in supervised systems. \\xa0 These metrics are respectively based on unigram, bigram, and unigram overlap with a maximum skip distance of 4, and be highly correlated with human evaluations. ROUGE-2 scores can be seen as a measure of summary readability. Also, there is one opposite way to evaluate the performance of the approach and that is the human evaluation metric. But it is slow and very expensive. Although, empirical studies show that the model’s performance judgment can be accurately done using ROGUE metric approaches in both automatic metrics and human evaluation. Table 1 gives a summary of all the experiments performed on the summarization task on the AMI dataset. The results clearly show that the results were improved by a considerable margin. Results(table) So in the end, let’s see if this work was new or something found on the first to last page of Google search! The media shown in this article are not owned by Analytics Vidhya and is used at the Author’s discretion. \\n\\n\\n\\n(adsbygoogle = window.adsbygoogle || []).push({});\\n © Copyright 2013-2020 Analytics Vidhya  '"
            ]
          },
          "metadata": {
            "tags": []
          },
          "execution_count": 10
        }
      ]
    },
    {
      "cell_type": "markdown",
      "metadata": {
        "id": "4BT2W75tdyQ_"
      },
      "source": [
        "# Chunk Text"
      ]
    },
    {
      "cell_type": "code",
      "metadata": {
        "id": "dY5lDB2Td6Lp"
      },
      "source": [
        "article = article.replace('.', '.<eos>')\n",
        "article = article.replace('!', '!<eos>')\n",
        "article = article.replace('?', '?<eos>')\n",
        "sentences = article.split('<eos>')"
      ],
      "execution_count": null,
      "outputs": []
    },
    {
      "cell_type": "code",
      "metadata": {
        "colab": {
          "base_uri": "https://localhost:8080/"
        },
        "id": "OaEcW2VNeroi",
        "outputId": "8dfa4b42-8648-419a-e300-9e03cf182a41"
      },
      "source": [
        "sentences"
      ],
      "execution_count": null,
      "outputs": [
        {
          "output_type": "execute_result",
          "data": {
            "text/plain": [
              "[' Dialogue Summarization: A Deep Learning Approach This article was published as a part of the Data Science Blogathon.',\n",
              " '  Dialogue Summarization: Its types and methodology \\xa0 Image cc: Aseem Srivastava Summarizing long pieces of text is a challenging problem.',\n",
              " ' Summarization is done primarily in two ways: extractive approach and abstractive approach.',\n",
              " ' In this work, we break down the problem of meeting summarization into extractive and abstractive components which further collectively generate a summary of the conversation.',\n",
              " ' \\xa0 \\xa0 The input to the encoder-decoder model is given in 512 length embedding which is generated after processing the AMI input from a BERT-based extractive summarizer where we apply k-means on a BERT sentence-level embedding.',\n",
              " ' We use two variants of this approach, with and without fine-tuning.',\n",
              " ' Model Architecture Model Architecture This is an incredibly difficult task that may seem impossible, even for people, and we don’t expect the model to solve it perfectly.',\n",
              " ' However, It is a problematic task that encourages the model to get to know about language as well as facts about the world, as well as how to filter out information considered throughout the document to produce output that marginally relates to the fine-tuning our task.',\n",
              " ' The pros of this self-supervision are that we could generate as many similar examples as there are documents, without any annotation, which is often the narrow section in supervised systems.',\n",
              " ' \\xa0 These metrics are respectively based on unigram, bigram, and unigram overlap with a maximum skip distance of 4, and be highly correlated with human evaluations.',\n",
              " ' ROUGE-2 scores can be seen as a measure of summary readability.',\n",
              " ' Also, there is one opposite way to evaluate the performance of the approach and that is the human evaluation metric.',\n",
              " ' But it is slow and very expensive.',\n",
              " ' Although, empirical studies show that the model’s performance judgment can be accurately done using ROGUE metric approaches in both automatic metrics and human evaluation.',\n",
              " ' Table 1 gives a summary of all the experiments performed on the summarization task on the AMI dataset.',\n",
              " ' The results clearly show that the results were improved by a considerable margin.',\n",
              " ' Results(table) So in the end, let’s see if this work was new or something found on the first to last page of Google search!',\n",
              " ' The media shown in this article are not owned by Analytics Vidhya and is used at the Author’s discretion.',\n",
              " ' \\n\\n\\n\\n(adsbygoogle = window.',\n",
              " 'adsbygoogle || []).',\n",
              " 'push({});\\n © Copyright 2013-2020 Analytics Vidhya  ']"
            ]
          },
          "metadata": {
            "tags": []
          },
          "execution_count": 12
        }
      ]
    },
    {
      "cell_type": "code",
      "metadata": {
        "colab": {
          "base_uri": "https://localhost:8080/"
        },
        "id": "lObksPGuetWH",
        "outputId": "81b28c89-904d-4de8-cfe0-cc5d4473eed4"
      },
      "source": [
        "max_chunk = 500\n",
        "current_chunk = 0\n",
        "chunks = []\n",
        "\n",
        "for sentence in sentences:\n",
        "    if len(chunks) == current_chunk + 1:\n",
        "        if len(chunks[current_chunk]) + len(sentence.split(' ')) <= max_chunk:\n",
        "            chunks[current_chunk].extend(sentence.split(' '))\n",
        "        else:\n",
        "            current_chunk += 1\n",
        "            chunks.append(sentence.split(' '))\n",
        "    else:\n",
        "        print(current_chunk)\n",
        "        chunks.append(sentence.split(' ')) "
      ],
      "execution_count": null,
      "outputs": [
        {
          "output_type": "stream",
          "text": [
            "0\n"
          ],
          "name": "stdout"
        }
      ]
    },
    {
      "cell_type": "code",
      "metadata": {
        "colab": {
          "base_uri": "https://localhost:8080/"
        },
        "id": "vQBxrU-KgvpE",
        "outputId": "4ef156b8-996f-4fdc-971d-88628428fc55"
      },
      "source": [
        "chunks"
      ],
      "execution_count": null,
      "outputs": [
        {
          "output_type": "execute_result",
          "data": {
            "text/plain": [
              "[['',\n",
              "  'Dialogue',\n",
              "  'Summarization:',\n",
              "  'A',\n",
              "  'Deep',\n",
              "  'Learning',\n",
              "  'Approach',\n",
              "  'This',\n",
              "  'article',\n",
              "  'was',\n",
              "  'published',\n",
              "  'as',\n",
              "  'a',\n",
              "  'part',\n",
              "  'of',\n",
              "  'the',\n",
              "  'Data',\n",
              "  'Science',\n",
              "  'Blogathon.',\n",
              "  '',\n",
              "  '',\n",
              "  'Dialogue',\n",
              "  'Summarization:',\n",
              "  'Its',\n",
              "  'types',\n",
              "  'and',\n",
              "  'methodology',\n",
              "  '\\xa0',\n",
              "  'Image',\n",
              "  'cc:',\n",
              "  'Aseem',\n",
              "  'Srivastava',\n",
              "  'Summarizing',\n",
              "  'long',\n",
              "  'pieces',\n",
              "  'of',\n",
              "  'text',\n",
              "  'is',\n",
              "  'a',\n",
              "  'challenging',\n",
              "  'problem.',\n",
              "  '',\n",
              "  'Summarization',\n",
              "  'is',\n",
              "  'done',\n",
              "  'primarily',\n",
              "  'in',\n",
              "  'two',\n",
              "  'ways:',\n",
              "  'extractive',\n",
              "  'approach',\n",
              "  'and',\n",
              "  'abstractive',\n",
              "  'approach.',\n",
              "  '',\n",
              "  'In',\n",
              "  'this',\n",
              "  'work,',\n",
              "  'we',\n",
              "  'break',\n",
              "  'down',\n",
              "  'the',\n",
              "  'problem',\n",
              "  'of',\n",
              "  'meeting',\n",
              "  'summarization',\n",
              "  'into',\n",
              "  'extractive',\n",
              "  'and',\n",
              "  'abstractive',\n",
              "  'components',\n",
              "  'which',\n",
              "  'further',\n",
              "  'collectively',\n",
              "  'generate',\n",
              "  'a',\n",
              "  'summary',\n",
              "  'of',\n",
              "  'the',\n",
              "  'conversation.',\n",
              "  '',\n",
              "  '\\xa0',\n",
              "  '\\xa0',\n",
              "  'The',\n",
              "  'input',\n",
              "  'to',\n",
              "  'the',\n",
              "  'encoder-decoder',\n",
              "  'model',\n",
              "  'is',\n",
              "  'given',\n",
              "  'in',\n",
              "  '512',\n",
              "  'length',\n",
              "  'embedding',\n",
              "  'which',\n",
              "  'is',\n",
              "  'generated',\n",
              "  'after',\n",
              "  'processing',\n",
              "  'the',\n",
              "  'AMI',\n",
              "  'input',\n",
              "  'from',\n",
              "  'a',\n",
              "  'BERT-based',\n",
              "  'extractive',\n",
              "  'summarizer',\n",
              "  'where',\n",
              "  'we',\n",
              "  'apply',\n",
              "  'k-means',\n",
              "  'on',\n",
              "  'a',\n",
              "  'BERT',\n",
              "  'sentence-level',\n",
              "  'embedding.',\n",
              "  '',\n",
              "  'We',\n",
              "  'use',\n",
              "  'two',\n",
              "  'variants',\n",
              "  'of',\n",
              "  'this',\n",
              "  'approach,',\n",
              "  'with',\n",
              "  'and',\n",
              "  'without',\n",
              "  'fine-tuning.',\n",
              "  '',\n",
              "  'Model',\n",
              "  'Architecture',\n",
              "  'Model',\n",
              "  'Architecture',\n",
              "  'This',\n",
              "  'is',\n",
              "  'an',\n",
              "  'incredibly',\n",
              "  'difficult',\n",
              "  'task',\n",
              "  'that',\n",
              "  'may',\n",
              "  'seem',\n",
              "  'impossible,',\n",
              "  'even',\n",
              "  'for',\n",
              "  'people,',\n",
              "  'and',\n",
              "  'we',\n",
              "  'don’t',\n",
              "  'expect',\n",
              "  'the',\n",
              "  'model',\n",
              "  'to',\n",
              "  'solve',\n",
              "  'it',\n",
              "  'perfectly.',\n",
              "  '',\n",
              "  'However,',\n",
              "  'It',\n",
              "  'is',\n",
              "  'a',\n",
              "  'problematic',\n",
              "  'task',\n",
              "  'that',\n",
              "  'encourages',\n",
              "  'the',\n",
              "  'model',\n",
              "  'to',\n",
              "  'get',\n",
              "  'to',\n",
              "  'know',\n",
              "  'about',\n",
              "  'language',\n",
              "  'as',\n",
              "  'well',\n",
              "  'as',\n",
              "  'facts',\n",
              "  'about',\n",
              "  'the',\n",
              "  'world,',\n",
              "  'as',\n",
              "  'well',\n",
              "  'as',\n",
              "  'how',\n",
              "  'to',\n",
              "  'filter',\n",
              "  'out',\n",
              "  'information',\n",
              "  'considered',\n",
              "  'throughout',\n",
              "  'the',\n",
              "  'document',\n",
              "  'to',\n",
              "  'produce',\n",
              "  'output',\n",
              "  'that',\n",
              "  'marginally',\n",
              "  'relates',\n",
              "  'to',\n",
              "  'the',\n",
              "  'fine-tuning',\n",
              "  'our',\n",
              "  'task.',\n",
              "  '',\n",
              "  'The',\n",
              "  'pros',\n",
              "  'of',\n",
              "  'this',\n",
              "  'self-supervision',\n",
              "  'are',\n",
              "  'that',\n",
              "  'we',\n",
              "  'could',\n",
              "  'generate',\n",
              "  'as',\n",
              "  'many',\n",
              "  'similar',\n",
              "  'examples',\n",
              "  'as',\n",
              "  'there',\n",
              "  'are',\n",
              "  'documents,',\n",
              "  'without',\n",
              "  'any',\n",
              "  'annotation,',\n",
              "  'which',\n",
              "  'is',\n",
              "  'often',\n",
              "  'the',\n",
              "  'narrow',\n",
              "  'section',\n",
              "  'in',\n",
              "  'supervised',\n",
              "  'systems.',\n",
              "  '',\n",
              "  '\\xa0',\n",
              "  'These',\n",
              "  'metrics',\n",
              "  'are',\n",
              "  'respectively',\n",
              "  'based',\n",
              "  'on',\n",
              "  'unigram,',\n",
              "  'bigram,',\n",
              "  'and',\n",
              "  'unigram',\n",
              "  'overlap',\n",
              "  'with',\n",
              "  'a',\n",
              "  'maximum',\n",
              "  'skip',\n",
              "  'distance',\n",
              "  'of',\n",
              "  '4,',\n",
              "  'and',\n",
              "  'be',\n",
              "  'highly',\n",
              "  'correlated',\n",
              "  'with',\n",
              "  'human',\n",
              "  'evaluations.',\n",
              "  '',\n",
              "  'ROUGE-2',\n",
              "  'scores',\n",
              "  'can',\n",
              "  'be',\n",
              "  'seen',\n",
              "  'as',\n",
              "  'a',\n",
              "  'measure',\n",
              "  'of',\n",
              "  'summary',\n",
              "  'readability.',\n",
              "  '',\n",
              "  'Also,',\n",
              "  'there',\n",
              "  'is',\n",
              "  'one',\n",
              "  'opposite',\n",
              "  'way',\n",
              "  'to',\n",
              "  'evaluate',\n",
              "  'the',\n",
              "  'performance',\n",
              "  'of',\n",
              "  'the',\n",
              "  'approach',\n",
              "  'and',\n",
              "  'that',\n",
              "  'is',\n",
              "  'the',\n",
              "  'human',\n",
              "  'evaluation',\n",
              "  'metric.',\n",
              "  '',\n",
              "  'But',\n",
              "  'it',\n",
              "  'is',\n",
              "  'slow',\n",
              "  'and',\n",
              "  'very',\n",
              "  'expensive.',\n",
              "  '',\n",
              "  'Although,',\n",
              "  'empirical',\n",
              "  'studies',\n",
              "  'show',\n",
              "  'that',\n",
              "  'the',\n",
              "  'model’s',\n",
              "  'performance',\n",
              "  'judgment',\n",
              "  'can',\n",
              "  'be',\n",
              "  'accurately',\n",
              "  'done',\n",
              "  'using',\n",
              "  'ROGUE',\n",
              "  'metric',\n",
              "  'approaches',\n",
              "  'in',\n",
              "  'both',\n",
              "  'automatic',\n",
              "  'metrics',\n",
              "  'and',\n",
              "  'human',\n",
              "  'evaluation.',\n",
              "  '',\n",
              "  'Table',\n",
              "  '1',\n",
              "  'gives',\n",
              "  'a',\n",
              "  'summary',\n",
              "  'of',\n",
              "  'all',\n",
              "  'the',\n",
              "  'experiments',\n",
              "  'performed',\n",
              "  'on',\n",
              "  'the',\n",
              "  'summarization',\n",
              "  'task',\n",
              "  'on',\n",
              "  'the',\n",
              "  'AMI',\n",
              "  'dataset.',\n",
              "  '',\n",
              "  'The',\n",
              "  'results',\n",
              "  'clearly',\n",
              "  'show',\n",
              "  'that',\n",
              "  'the',\n",
              "  'results',\n",
              "  'were',\n",
              "  'improved',\n",
              "  'by',\n",
              "  'a',\n",
              "  'considerable',\n",
              "  'margin.',\n",
              "  '',\n",
              "  'Results(table)',\n",
              "  'So',\n",
              "  'in',\n",
              "  'the',\n",
              "  'end,',\n",
              "  'let’s',\n",
              "  'see',\n",
              "  'if',\n",
              "  'this',\n",
              "  'work',\n",
              "  'was',\n",
              "  'new',\n",
              "  'or',\n",
              "  'something',\n",
              "  'found',\n",
              "  'on',\n",
              "  'the',\n",
              "  'first',\n",
              "  'to',\n",
              "  'last',\n",
              "  'page',\n",
              "  'of',\n",
              "  'Google',\n",
              "  'search!',\n",
              "  '',\n",
              "  'The',\n",
              "  'media',\n",
              "  'shown',\n",
              "  'in',\n",
              "  'this',\n",
              "  'article',\n",
              "  'are',\n",
              "  'not',\n",
              "  'owned',\n",
              "  'by',\n",
              "  'Analytics',\n",
              "  'Vidhya',\n",
              "  'and',\n",
              "  'is',\n",
              "  'used',\n",
              "  'at',\n",
              "  'the',\n",
              "  'Author’s',\n",
              "  'discretion.',\n",
              "  '',\n",
              "  '\\n\\n\\n\\n(adsbygoogle',\n",
              "  '=',\n",
              "  'window.',\n",
              "  'adsbygoogle',\n",
              "  '||',\n",
              "  '[]).',\n",
              "  'push({});\\n',\n",
              "  '©',\n",
              "  'Copyright',\n",
              "  '2013-2020',\n",
              "  'Analytics',\n",
              "  'Vidhya',\n",
              "  '',\n",
              "  '']]"
            ]
          },
          "metadata": {
            "tags": []
          },
          "execution_count": 14
        }
      ]
    },
    {
      "cell_type": "code",
      "metadata": {
        "colab": {
          "base_uri": "https://localhost:8080/"
        },
        "id": "wvthVqvqhGCY",
        "outputId": "5bd0ad50-287a-428a-8d14-a62e6367de9a"
      },
      "source": [
        "chunks[0]"
      ],
      "execution_count": null,
      "outputs": [
        {
          "output_type": "execute_result",
          "data": {
            "text/plain": [
              "['',\n",
              " 'Dialogue',\n",
              " 'Summarization:',\n",
              " 'A',\n",
              " 'Deep',\n",
              " 'Learning',\n",
              " 'Approach',\n",
              " 'This',\n",
              " 'article',\n",
              " 'was',\n",
              " 'published',\n",
              " 'as',\n",
              " 'a',\n",
              " 'part',\n",
              " 'of',\n",
              " 'the',\n",
              " 'Data',\n",
              " 'Science',\n",
              " 'Blogathon.',\n",
              " '',\n",
              " '',\n",
              " 'Dialogue',\n",
              " 'Summarization:',\n",
              " 'Its',\n",
              " 'types',\n",
              " 'and',\n",
              " 'methodology',\n",
              " '\\xa0',\n",
              " 'Image',\n",
              " 'cc:',\n",
              " 'Aseem',\n",
              " 'Srivastava',\n",
              " 'Summarizing',\n",
              " 'long',\n",
              " 'pieces',\n",
              " 'of',\n",
              " 'text',\n",
              " 'is',\n",
              " 'a',\n",
              " 'challenging',\n",
              " 'problem.',\n",
              " '',\n",
              " 'Summarization',\n",
              " 'is',\n",
              " 'done',\n",
              " 'primarily',\n",
              " 'in',\n",
              " 'two',\n",
              " 'ways:',\n",
              " 'extractive',\n",
              " 'approach',\n",
              " 'and',\n",
              " 'abstractive',\n",
              " 'approach.',\n",
              " '',\n",
              " 'In',\n",
              " 'this',\n",
              " 'work,',\n",
              " 'we',\n",
              " 'break',\n",
              " 'down',\n",
              " 'the',\n",
              " 'problem',\n",
              " 'of',\n",
              " 'meeting',\n",
              " 'summarization',\n",
              " 'into',\n",
              " 'extractive',\n",
              " 'and',\n",
              " 'abstractive',\n",
              " 'components',\n",
              " 'which',\n",
              " 'further',\n",
              " 'collectively',\n",
              " 'generate',\n",
              " 'a',\n",
              " 'summary',\n",
              " 'of',\n",
              " 'the',\n",
              " 'conversation.',\n",
              " '',\n",
              " '\\xa0',\n",
              " '\\xa0',\n",
              " 'The',\n",
              " 'input',\n",
              " 'to',\n",
              " 'the',\n",
              " 'encoder-decoder',\n",
              " 'model',\n",
              " 'is',\n",
              " 'given',\n",
              " 'in',\n",
              " '512',\n",
              " 'length',\n",
              " 'embedding',\n",
              " 'which',\n",
              " 'is',\n",
              " 'generated',\n",
              " 'after',\n",
              " 'processing',\n",
              " 'the',\n",
              " 'AMI',\n",
              " 'input',\n",
              " 'from',\n",
              " 'a',\n",
              " 'BERT-based',\n",
              " 'extractive',\n",
              " 'summarizer',\n",
              " 'where',\n",
              " 'we',\n",
              " 'apply',\n",
              " 'k-means',\n",
              " 'on',\n",
              " 'a',\n",
              " 'BERT',\n",
              " 'sentence-level',\n",
              " 'embedding.',\n",
              " '',\n",
              " 'We',\n",
              " 'use',\n",
              " 'two',\n",
              " 'variants',\n",
              " 'of',\n",
              " 'this',\n",
              " 'approach,',\n",
              " 'with',\n",
              " 'and',\n",
              " 'without',\n",
              " 'fine-tuning.',\n",
              " '',\n",
              " 'Model',\n",
              " 'Architecture',\n",
              " 'Model',\n",
              " 'Architecture',\n",
              " 'This',\n",
              " 'is',\n",
              " 'an',\n",
              " 'incredibly',\n",
              " 'difficult',\n",
              " 'task',\n",
              " 'that',\n",
              " 'may',\n",
              " 'seem',\n",
              " 'impossible,',\n",
              " 'even',\n",
              " 'for',\n",
              " 'people,',\n",
              " 'and',\n",
              " 'we',\n",
              " 'don’t',\n",
              " 'expect',\n",
              " 'the',\n",
              " 'model',\n",
              " 'to',\n",
              " 'solve',\n",
              " 'it',\n",
              " 'perfectly.',\n",
              " '',\n",
              " 'However,',\n",
              " 'It',\n",
              " 'is',\n",
              " 'a',\n",
              " 'problematic',\n",
              " 'task',\n",
              " 'that',\n",
              " 'encourages',\n",
              " 'the',\n",
              " 'model',\n",
              " 'to',\n",
              " 'get',\n",
              " 'to',\n",
              " 'know',\n",
              " 'about',\n",
              " 'language',\n",
              " 'as',\n",
              " 'well',\n",
              " 'as',\n",
              " 'facts',\n",
              " 'about',\n",
              " 'the',\n",
              " 'world,',\n",
              " 'as',\n",
              " 'well',\n",
              " 'as',\n",
              " 'how',\n",
              " 'to',\n",
              " 'filter',\n",
              " 'out',\n",
              " 'information',\n",
              " 'considered',\n",
              " 'throughout',\n",
              " 'the',\n",
              " 'document',\n",
              " 'to',\n",
              " 'produce',\n",
              " 'output',\n",
              " 'that',\n",
              " 'marginally',\n",
              " 'relates',\n",
              " 'to',\n",
              " 'the',\n",
              " 'fine-tuning',\n",
              " 'our',\n",
              " 'task.',\n",
              " '',\n",
              " 'The',\n",
              " 'pros',\n",
              " 'of',\n",
              " 'this',\n",
              " 'self-supervision',\n",
              " 'are',\n",
              " 'that',\n",
              " 'we',\n",
              " 'could',\n",
              " 'generate',\n",
              " 'as',\n",
              " 'many',\n",
              " 'similar',\n",
              " 'examples',\n",
              " 'as',\n",
              " 'there',\n",
              " 'are',\n",
              " 'documents,',\n",
              " 'without',\n",
              " 'any',\n",
              " 'annotation,',\n",
              " 'which',\n",
              " 'is',\n",
              " 'often',\n",
              " 'the',\n",
              " 'narrow',\n",
              " 'section',\n",
              " 'in',\n",
              " 'supervised',\n",
              " 'systems.',\n",
              " '',\n",
              " '\\xa0',\n",
              " 'These',\n",
              " 'metrics',\n",
              " 'are',\n",
              " 'respectively',\n",
              " 'based',\n",
              " 'on',\n",
              " 'unigram,',\n",
              " 'bigram,',\n",
              " 'and',\n",
              " 'unigram',\n",
              " 'overlap',\n",
              " 'with',\n",
              " 'a',\n",
              " 'maximum',\n",
              " 'skip',\n",
              " 'distance',\n",
              " 'of',\n",
              " '4,',\n",
              " 'and',\n",
              " 'be',\n",
              " 'highly',\n",
              " 'correlated',\n",
              " 'with',\n",
              " 'human',\n",
              " 'evaluations.',\n",
              " '',\n",
              " 'ROUGE-2',\n",
              " 'scores',\n",
              " 'can',\n",
              " 'be',\n",
              " 'seen',\n",
              " 'as',\n",
              " 'a',\n",
              " 'measure',\n",
              " 'of',\n",
              " 'summary',\n",
              " 'readability.',\n",
              " '',\n",
              " 'Also,',\n",
              " 'there',\n",
              " 'is',\n",
              " 'one',\n",
              " 'opposite',\n",
              " 'way',\n",
              " 'to',\n",
              " 'evaluate',\n",
              " 'the',\n",
              " 'performance',\n",
              " 'of',\n",
              " 'the',\n",
              " 'approach',\n",
              " 'and',\n",
              " 'that',\n",
              " 'is',\n",
              " 'the',\n",
              " 'human',\n",
              " 'evaluation',\n",
              " 'metric.',\n",
              " '',\n",
              " 'But',\n",
              " 'it',\n",
              " 'is',\n",
              " 'slow',\n",
              " 'and',\n",
              " 'very',\n",
              " 'expensive.',\n",
              " '',\n",
              " 'Although,',\n",
              " 'empirical',\n",
              " 'studies',\n",
              " 'show',\n",
              " 'that',\n",
              " 'the',\n",
              " 'model’s',\n",
              " 'performance',\n",
              " 'judgment',\n",
              " 'can',\n",
              " 'be',\n",
              " 'accurately',\n",
              " 'done',\n",
              " 'using',\n",
              " 'ROGUE',\n",
              " 'metric',\n",
              " 'approaches',\n",
              " 'in',\n",
              " 'both',\n",
              " 'automatic',\n",
              " 'metrics',\n",
              " 'and',\n",
              " 'human',\n",
              " 'evaluation.',\n",
              " '',\n",
              " 'Table',\n",
              " '1',\n",
              " 'gives',\n",
              " 'a',\n",
              " 'summary',\n",
              " 'of',\n",
              " 'all',\n",
              " 'the',\n",
              " 'experiments',\n",
              " 'performed',\n",
              " 'on',\n",
              " 'the',\n",
              " 'summarization',\n",
              " 'task',\n",
              " 'on',\n",
              " 'the',\n",
              " 'AMI',\n",
              " 'dataset.',\n",
              " '',\n",
              " 'The',\n",
              " 'results',\n",
              " 'clearly',\n",
              " 'show',\n",
              " 'that',\n",
              " 'the',\n",
              " 'results',\n",
              " 'were',\n",
              " 'improved',\n",
              " 'by',\n",
              " 'a',\n",
              " 'considerable',\n",
              " 'margin.',\n",
              " '',\n",
              " 'Results(table)',\n",
              " 'So',\n",
              " 'in',\n",
              " 'the',\n",
              " 'end,',\n",
              " 'let’s',\n",
              " 'see',\n",
              " 'if',\n",
              " 'this',\n",
              " 'work',\n",
              " 'was',\n",
              " 'new',\n",
              " 'or',\n",
              " 'something',\n",
              " 'found',\n",
              " 'on',\n",
              " 'the',\n",
              " 'first',\n",
              " 'to',\n",
              " 'last',\n",
              " 'page',\n",
              " 'of',\n",
              " 'Google',\n",
              " 'search!',\n",
              " '',\n",
              " 'The',\n",
              " 'media',\n",
              " 'shown',\n",
              " 'in',\n",
              " 'this',\n",
              " 'article',\n",
              " 'are',\n",
              " 'not',\n",
              " 'owned',\n",
              " 'by',\n",
              " 'Analytics',\n",
              " 'Vidhya',\n",
              " 'and',\n",
              " 'is',\n",
              " 'used',\n",
              " 'at',\n",
              " 'the',\n",
              " 'Author’s',\n",
              " 'discretion.',\n",
              " '',\n",
              " '\\n\\n\\n\\n(adsbygoogle',\n",
              " '=',\n",
              " 'window.',\n",
              " 'adsbygoogle',\n",
              " '||',\n",
              " '[]).',\n",
              " 'push({});\\n',\n",
              " '©',\n",
              " 'Copyright',\n",
              " '2013-2020',\n",
              " 'Analytics',\n",
              " 'Vidhya',\n",
              " '',\n",
              " '']"
            ]
          },
          "metadata": {
            "tags": []
          },
          "execution_count": 15
        }
      ]
    },
    {
      "cell_type": "code",
      "metadata": {
        "id": "FndBigcbNknd"
      },
      "source": [
        "for chunk_id in range(len(chunks)):\n",
        "    chunks[chunk_id] = ' '.join(chunks[chunk_id])"
      ],
      "execution_count": null,
      "outputs": []
    },
    {
      "cell_type": "code",
      "metadata": {
        "colab": {
          "base_uri": "https://localhost:8080/",
          "height": 120
        },
        "id": "4jyZQrh9NrTd",
        "outputId": "a35aac6e-39b0-4381-c738-e5a55f8c1d72"
      },
      "source": [
        "chunks[0]"
      ],
      "execution_count": null,
      "outputs": [
        {
          "output_type": "execute_result",
          "data": {
            "application/vnd.google.colaboratory.intrinsic+json": {
              "type": "string"
            },
            "text/plain": [
              "' Dialogue Summarization: A Deep Learning Approach This article was published as a part of the Data Science Blogathon.   Dialogue Summarization: Its types and methodology \\xa0 Image cc: Aseem Srivastava Summarizing long pieces of text is a challenging problem.  Summarization is done primarily in two ways: extractive approach and abstractive approach.  In this work, we break down the problem of meeting summarization into extractive and abstractive components which further collectively generate a summary of the conversation.  \\xa0 \\xa0 The input to the encoder-decoder model is given in 512 length embedding which is generated after processing the AMI input from a BERT-based extractive summarizer where we apply k-means on a BERT sentence-level embedding.  We use two variants of this approach, with and without fine-tuning.  Model Architecture Model Architecture This is an incredibly difficult task that may seem impossible, even for people, and we don’t expect the model to solve it perfectly.  However, It is a problematic task that encourages the model to get to know about language as well as facts about the world, as well as how to filter out information considered throughout the document to produce output that marginally relates to the fine-tuning our task.  The pros of this self-supervision are that we could generate as many similar examples as there are documents, without any annotation, which is often the narrow section in supervised systems.  \\xa0 These metrics are respectively based on unigram, bigram, and unigram overlap with a maximum skip distance of 4, and be highly correlated with human evaluations.  ROUGE-2 scores can be seen as a measure of summary readability.  Also, there is one opposite way to evaluate the performance of the approach and that is the human evaluation metric.  But it is slow and very expensive.  Although, empirical studies show that the model’s performance judgment can be accurately done using ROGUE metric approaches in both automatic metrics and human evaluation.  Table 1 gives a summary of all the experiments performed on the summarization task on the AMI dataset.  The results clearly show that the results were improved by a considerable margin.  Results(table) So in the end, let’s see if this work was new or something found on the first to last page of Google search!  The media shown in this article are not owned by Analytics Vidhya and is used at the Author’s discretion.  \\n\\n\\n\\n(adsbygoogle = window. adsbygoogle || []). push({});\\n © Copyright 2013-2020 Analytics Vidhya  '"
            ]
          },
          "metadata": {
            "tags": []
          },
          "execution_count": 17
        }
      ]
    },
    {
      "cell_type": "code",
      "metadata": {
        "colab": {
          "base_uri": "https://localhost:8080/"
        },
        "id": "Tl195vlaNuyo",
        "outputId": "d2affa32-b7e5-4bdb-bdb9-4c93c679cd07"
      },
      "source": [
        "#character counts\n",
        "len(chunks[0])"
      ],
      "execution_count": null,
      "outputs": [
        {
          "output_type": "execute_result",
          "data": {
            "text/plain": [
              "2530"
            ]
          },
          "metadata": {
            "tags": []
          },
          "execution_count": 19
        }
      ]
    },
    {
      "cell_type": "code",
      "metadata": {
        "colab": {
          "base_uri": "https://localhost:8080/"
        },
        "id": "AlOrsCT2N2b1",
        "outputId": "bace13e7-fa2d-478b-edca-67efcbb402dd"
      },
      "source": [
        "#all words have count less than 500\n",
        "len(chunks[0].split(' '))"
      ],
      "execution_count": null,
      "outputs": [
        {
          "output_type": "execute_result",
          "data": {
            "text/plain": [
              "421"
            ]
          },
          "metadata": {
            "tags": []
          },
          "execution_count": 20
        }
      ]
    },
    {
      "cell_type": "markdown",
      "metadata": {
        "id": "xikxPTsrOORA"
      },
      "source": [
        "# Summarize Text"
      ]
    },
    {
      "cell_type": "code",
      "metadata": {
        "id": "e4jHVr6IN82F"
      },
      "source": [
        "res = summarizer(chunks, max_length=120, min_length=30, do_sample=False)"
      ],
      "execution_count": null,
      "outputs": []
    },
    {
      "cell_type": "code",
      "metadata": {
        "colab": {
          "base_uri": "https://localhost:8080/"
        },
        "id": "OhRzAl-bOQw2",
        "outputId": "b737eb09-c1db-4378-fd15-333ca72ed14b"
      },
      "source": [
        "res"
      ],
      "execution_count": null,
      "outputs": [
        {
          "output_type": "execute_result",
          "data": {
            "text/plain": [
              "[{'summary_text': ' Summarization is done primarily in two ways: extractive approach and abstractive approach . We use two variants of this approach, with and without fine-tuning . Table 1 gives a summary of all the experiments performed on the summarization task on the . AMI dataset . Table shows that the results were improved by a considerable margin .'}]"
            ]
          },
          "metadata": {
            "tags": []
          },
          "execution_count": 23
        }
      ]
    },
    {
      "cell_type": "code",
      "metadata": {
        "colab": {
          "base_uri": "https://localhost:8080/"
        },
        "id": "2bwZtYDPPP2O",
        "outputId": "995702c0-426f-45e6-9011-d987b08fdcfb"
      },
      "source": [
        "len(chunks)"
      ],
      "execution_count": null,
      "outputs": [
        {
          "output_type": "execute_result",
          "data": {
            "text/plain": [
              "1"
            ]
          },
          "metadata": {
            "tags": []
          },
          "execution_count": 25
        }
      ]
    },
    {
      "cell_type": "code",
      "metadata": {
        "colab": {
          "base_uri": "https://localhost:8080/",
          "height": 69
        },
        "id": "r-HlJsGYO39C",
        "outputId": "fec2de09-d8cf-4cd8-d290-19ba832a0166"
      },
      "source": [
        "summary = ' '.join([summ['summary_text'] for summ in res])\n",
        "summary"
      ],
      "execution_count": null,
      "outputs": [
        {
          "output_type": "execute_result",
          "data": {
            "application/vnd.google.colaboratory.intrinsic+json": {
              "type": "string"
            },
            "text/plain": [
              "' Summarization is done primarily in two ways: extractive approach and abstractive approach . We use two variants of this approach, with and without fine-tuning . Table 1 gives a summary of all the experiments performed on the summarization task on the . AMI dataset . Table shows that the results were improved by a considerable margin .'"
            ]
          },
          "metadata": {
            "tags": []
          },
          "execution_count": 28
        }
      ]
    },
    {
      "cell_type": "markdown",
      "metadata": {
        "id": "KYi5d3LKPmyE"
      },
      "source": [
        "# Output to Text File"
      ]
    },
    {
      "cell_type": "code",
      "metadata": {
        "id": "l5VA3ZeKPHQ9"
      },
      "source": [
        "with open('blog-summary.txt', 'w') as f:\n",
        "    f.write(summary)"
      ],
      "execution_count": null,
      "outputs": []
    }
  ]
}